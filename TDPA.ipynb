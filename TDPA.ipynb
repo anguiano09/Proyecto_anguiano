{
 "cells": [
  {
   "cell_type": "code",
   "execution_count": 11,
   "metadata": {},
   "outputs": [],
   "source": [
    "import pandas as pd\n",
    "import numpy as np\n",
    "import matplotlib.pyplot as plt\n",
    "%matplotlib inline\n",
    "import sympy as sym\n",
    "import scipy.optimize as opt\n"
   ]
  },
  {
   "cell_type": "code",
   "execution_count": 12,
   "metadata": {},
   "outputs": [
    {
     "data": {
      "text/html": [
       "<div>\n",
       "<style scoped>\n",
       "    .dataframe tbody tr th:only-of-type {\n",
       "        vertical-align: middle;\n",
       "    }\n",
       "\n",
       "    .dataframe tbody tr th {\n",
       "        vertical-align: top;\n",
       "    }\n",
       "\n",
       "    .dataframe thead th {\n",
       "        text-align: right;\n",
       "    }\n",
       "</style>\n",
       "<table border=\"1\" class=\"dataframe\">\n",
       "  <thead>\n",
       "    <tr style=\"text-align: right;\">\n",
       "      <th></th>\n",
       "      <th>Lectura</th>\n",
       "      <th>Tiempo transcurrido (min)</th>\n",
       "      <th>Numero de coches (total)</th>\n",
       "    </tr>\n",
       "  </thead>\n",
       "  <tbody>\n",
       "    <tr>\n",
       "      <th>0</th>\n",
       "      <td>1</td>\n",
       "      <td>15</td>\n",
       "      <td>558</td>\n",
       "    </tr>\n",
       "    <tr>\n",
       "      <th>1</th>\n",
       "      <td>2</td>\n",
       "      <td>30</td>\n",
       "      <td>575</td>\n",
       "    </tr>\n",
       "    <tr>\n",
       "      <th>2</th>\n",
       "      <td>3</td>\n",
       "      <td>45</td>\n",
       "      <td>612</td>\n",
       "    </tr>\n",
       "    <tr>\n",
       "      <th>3</th>\n",
       "      <td>4</td>\n",
       "      <td>60</td>\n",
       "      <td>620</td>\n",
       "    </tr>\n",
       "    <tr>\n",
       "      <th>4</th>\n",
       "      <td>5</td>\n",
       "      <td>75</td>\n",
       "      <td>615</td>\n",
       "    </tr>\n",
       "    <tr>\n",
       "      <th>5</th>\n",
       "      <td>6</td>\n",
       "      <td>90</td>\n",
       "      <td>602</td>\n",
       "    </tr>\n",
       "    <tr>\n",
       "      <th>6</th>\n",
       "      <td>7</td>\n",
       "      <td>105</td>\n",
       "      <td>580</td>\n",
       "    </tr>\n",
       "    <tr>\n",
       "      <th>7</th>\n",
       "      <td>8</td>\n",
       "      <td>120</td>\n",
       "      <td>577</td>\n",
       "    </tr>\n",
       "  </tbody>\n",
       "</table>\n",
       "</div>"
      ],
      "text/plain": [
       "   Lectura  Tiempo transcurrido (min)  Numero de coches (total)\n",
       "0        1                         15                       558\n",
       "1        2                         30                       575\n",
       "2        3                         45                       612\n",
       "3        4                         60                       620\n",
       "4        5                         75                       615\n",
       "5        6                         90                       602\n",
       "6        7                        105                       580\n",
       "7        8                        120                       577"
      ]
     },
     "execution_count": 12,
     "metadata": {},
     "output_type": "execute_result"
    }
   ],
   "source": [
    "file_name = 'TDPA.csv'\n",
    "data = pd.read_csv(file_name)\n",
    "data"
   ]
  },
  {
   "cell_type": "code",
   "execution_count": 23,
   "metadata": {},
   "outputs": [],
   "source": [
    "x = data.iloc[:,1].values\n",
    "y = data.iloc[:,2].values"
   ]
  },
  {
   "cell_type": "code",
   "execution_count": 24,
   "metadata": {},
   "outputs": [],
   "source": [
    "def fun_obj(beta,x,y,n):\n",
    "    yhat = beta.dot([x**i for i in range(n+1)])\n",
    "    e = y-yhat\n",
    "    return np.sum(e**2)"
   ]
  },
  {
   "cell_type": "code",
   "execution_count": 25,
   "metadata": {},
   "outputs": [],
   "source": [
    "b01 = np.zeros(2)\n",
    "b02 = np.zeros(3)\n",
    "b03 = np.zeros(4)\n",
    "\n",
    "ajuste1 = opt.minimize(fun_obj,b01,args=(x,y,1))\n",
    "ajuste2 = opt.minimize(fun_obj,b02,args=(x,y,2))\n",
    "ajuste3 = opt.minimize(fun_obj,b03,args=(x,y,3))"
   ]
  },
  {
   "cell_type": "code",
   "execution_count": 26,
   "metadata": {},
   "outputs": [
    {
     "data": {
      "text/plain": [
       "      fun: 3535.8214285714703\n",
       " hess_inv: array([[ 6.26272633e-02, -2.34693289e-07],\n",
       "       [-2.34693289e-07,  3.46472007e-09]])\n",
       "      jac: array([0.00000000e+00, 6.10351562e-05])\n",
       "  message: 'Desired error not necessarily achieved due to precision loss.'\n",
       "     nfev: 49\n",
       "      nit: 9\n",
       "     njev: 12\n",
       "   status: 2\n",
       "  success: False\n",
       "        x: array([5.85785719e+02, 9.76189833e-02])"
      ]
     },
     "execution_count": 26,
     "metadata": {},
     "output_type": "execute_result"
    }
   ],
   "source": [
    "ajuste1"
   ]
  },
  {
   "cell_type": "code",
   "execution_count": 27,
   "metadata": {},
   "outputs": [
    {
     "data": {
      "text/plain": [
       "      fun: 475.76785822414604\n",
       " hess_inv: array([[ 9.73581031e-01, -3.03771402e-02,  1.98571757e-04],\n",
       "       [-3.03771402e-02,  1.12542953e-03, -7.94518596e-06],\n",
       "       [ 1.98571757e-04, -7.94518596e-06,  5.88579822e-08]])\n",
       "      jac: array([-9.91821289e-05, -5.86318970e-03,  4.11987305e-04])\n",
       "  message: 'Desired error not necessarily achieved due to precision loss.'\n",
       "     nfev: 212\n",
       "      nit: 5\n",
       "     njev: 40\n",
       "   status: 2\n",
       "  success: False\n",
       "        x: array([ 5.21766648e+02,  2.65838147e+00, -1.89686105e-02])"
      ]
     },
     "execution_count": 27,
     "metadata": {},
     "output_type": "execute_result"
    }
   ],
   "source": [
    "ajuste2"
   ]
  },
  {
   "cell_type": "code",
   "execution_count": 28,
   "metadata": {},
   "outputs": [
    {
     "data": {
      "text/plain": [
       "      fun: 334.8784175646344\n",
       " hess_inv: array([[ 3.05030562e+00, -1.74249939e-01,  2.71165869e-03,\n",
       "        -1.24072368e-05],\n",
       "       [-1.74249939e-01,  1.10947498e-02, -1.82097259e-04,\n",
       "         8.59832149e-07],\n",
       "       [ 2.71165869e-03, -1.82097259e-04,  3.10092532e-06,\n",
       "        -1.50185756e-08],\n",
       "       [-1.24072368e-05,  8.59832149e-07, -1.50185756e-08,\n",
       "         7.41419600e-11]])\n",
       "      jac: array([ 3.81469727e-06,  1.25885010e-04,  5.31768799e-03, -2.67028809e-05])\n",
       "  message: 'Desired error not necessarily achieved due to precision loss.'\n",
       "     nfev: 143\n",
       "      nit: 10\n",
       "     njev: 22\n",
       "   status: 2\n",
       "  success: False\n",
       "        x: array([ 4.98561716e+02,  4.26787961e+00, -4.70957254e-02,  1.38899196e-04])"
      ]
     },
     "execution_count": 28,
     "metadata": {},
     "output_type": "execute_result"
    }
   ],
   "source": [
    "ajuste3"
   ]
  },
  {
   "cell_type": "code",
   "execution_count": 29,
   "metadata": {},
   "outputs": [],
   "source": [
    "beta1 = ajuste1.x\n",
    "beta2 = ajuste2.x\n",
    "beta3 = ajuste3.x"
   ]
  },
  {
   "cell_type": "code",
   "execution_count": 30,
   "metadata": {},
   "outputs": [],
   "source": [
    "yhat1 = beta1[0] + beta1[1]*x\n",
    "yhat2 = beta2[0] + beta2[1]*x + beta2[2]*x**2\n",
    "yhat3 = beta3[0] + beta3[1]*x + beta3[2]*x**2 + beta3[3]*x**3"
   ]
  },
  {
   "cell_type": "code",
   "execution_count": 40,
   "metadata": {},
   "outputs": [
    {
     "data": {
      "image/png": "[encoded data removed]",
      "text/plain": [
       "<Figure size 720x576 with 1 Axes>"
      ]
     },
     "metadata": {
      "needs_background": "light"
     },
     "output_type": "display_data"
    }
   ],
   "source": [
    "plt.figure(figsize=(10,8))\n",
    "plt.plot(x,y,'r*',ms = 4,label='Puntos')\n",
    "plt.plot(x,yhat1,'b',ms = 6,label='Ajuste 1')\n",
    "plt.plot(x,yhat2,'y',ms = 6,label='Ajuste 2')\n",
    "plt.plot(x,yhat3,'g',ms = 6,label='Ajuste 3')\n",
    "plt.grid()\n",
    "plt.legend(loc='best')\n",
    "plt.xlabel('Minutos')\n",
    "plt.ylabel('Vehiculos')\n",
    "plt.show()"
   ]
  },
  {
   "cell_type": "code",
   "execution_count": 41,
   "metadata": {},
   "outputs": [
    {
     "data": {
      "text/plain": [
       "Text(0, 0.5, 'Error')"
      ]
     },
     "execution_count": 41,
     "metadata": {},
     "output_type": "execute_result"
    },
    {
     "data": {
      "image/png": "[encoded data removed]",
      "text/plain": [
       "<Figure size 576x432 with 1 Axes>"
      ]
     },
     "metadata": {
      "needs_background": "light"
     },
     "output_type": "display_data"
    }
   ],
   "source": [
    "error = [ajuste1.fun,ajuste2.fun,ajuste3.fun]\n",
    "plt.figure(figsize=(8,6))\n",
    "plt.plot(range(1,4),error,'ro',ms=5)\n",
    "plt.xlabel('Orden del polinomio')\n",
    "plt.ylabel('Error')"
   ]
  },
  {
   "cell_type": "code",
   "execution_count": 44,
   "metadata": {},
   "outputs": [],
   "source": [
    "#El polinomio que más se ajusta es el 3 de acuerdo a la gráfica"
   ]
  },
  {
   "cell_type": "code",
   "execution_count": null,
   "metadata": {},
   "outputs": [],
   "source": []
  }
 ],
 "metadata": {
  "kernelspec": {
   "display_name": "Python 3",
   "language": "python",
   "name": "python3"
  },
  "language_info": {
   "codemirror_mode": {
    "name": "ipython",
    "version": 3
   },
   "file_extension": ".py",
   "mimetype": "text/x-python",
   "name": "python",
   "nbconvert_exporter": "python",
   "pygments_lexer": "ipython3",
   "version": "3.7.6"
  }
 },
 "nbformat": 4,
 "nbformat_minor": 4
}
